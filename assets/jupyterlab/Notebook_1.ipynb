{
 "cells": [
  {
   "cell_type": "markdown",
   "metadata": {},
   "source": [
    "# testiramo, da vidmo kako te stvari delujejo in se odražajo na git serveru\n"
   ]
  },
  {
   "cell_type": "markdown",
   "metadata": {},
   "source": [
    "to pa je dodano na novo, da nas ne bo kaj presenetilo"
   ]
  },
  {
   "cell_type": "markdown",
   "metadata": {},
   "source": [
    "no še sem moram nekaj napisat, da vidmi kako stvari delujejo"
   ]
  },
  {
   "cell_type": "markdown",
   "metadata": {},
   "source": [
    "tole pa je tretjni način, ki sem ga poslal zvečer"
   ]
  }
 ],
 "metadata": {
  "kernelspec": {
   "display_name": "Python 3.6",
   "language": "python",
   "name": "python3"
  },
  "language_info": {
   "codemirror_mode": {
    "name": "ipython",
    "version": 3
   },
   "file_extension": ".py",
   "mimetype": "text/x-python",
   "name": "python",
   "nbconvert_exporter": "python",
   "pygments_lexer": "ipython3",
   "version": "3.6.8"
  }
 },
 "nbformat": 4,
 "nbformat_minor": 4
}
