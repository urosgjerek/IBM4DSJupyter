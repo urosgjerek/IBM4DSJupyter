{
 "cells": [
  {
   "cell_type": "code",
   "execution_count": 1,
   "metadata": {},
   "outputs": [],
   "source": [
    "import pandas as pd"
   ]
  },
  {
   "cell_type": "code",
   "execution_count": 3,
   "metadata": {},
   "outputs": [
    {
     "data": {
      "text/plain": [
       "'/home/wsuser/work/project_git_repo/IBM4DSJupyter/assets/jupyterlab'"
      ]
     },
     "execution_count": 3,
     "metadata": {},
     "output_type": "execute_result"
    }
   ],
   "source": [
    "pwd()"
   ]
  },
  {
   "cell_type": "code",
   "execution_count": 4,
   "metadata": {},
   "outputs": [
    {
     "name": "stdout",
     "output_type": "stream",
     "text": [
      "/usr/bin/sh: -c: line 0: syntax error near unexpected token `('\n",
      "/usr/bin/sh: -c: line 0: `ls -F --color ()'\n"
     ]
    }
   ],
   "source": [
    "ls()"
   ]
  },
  {
   "cell_type": "code",
   "execution_count": 5,
   "metadata": {},
   "outputs": [
    {
     "data": {
      "text/plain": [
       "'/home/wsuser/work/project_git_repo/IBM4DSJupyter/assets/jupyterlab'"
      ]
     },
     "execution_count": 5,
     "metadata": {},
     "output_type": "execute_result"
    }
   ],
   "source": [
    "pwd()"
   ]
  },
  {
   "cell_type": "code",
   "execution_count": 7,
   "metadata": {},
   "outputs": [
    {
     "data": {
      "text/plain": [
       "'/home/wsuser/work/project_git_repo/IBM4DSJupyter/assets/jupyterlab'"
      ]
     },
     "execution_count": 7,
     "metadata": {},
     "output_type": "execute_result"
    }
   ],
   "source": [
    "pwd()"
   ]
  },
  {
   "cell_type": "code",
   "execution_count": 8,
   "metadata": {},
   "outputs": [
    {
     "name": "stdout",
     "output_type": "stream",
     "text": [
      "/usr/bin/sh: -c: line 0: syntax error near unexpected token `('\n",
      "/usr/bin/sh: -c: line 0: `ls -F --color (\"/project_data/data_asset/\")'\n"
     ]
    }
   ],
   "source": [
    "ls(\"/project_data/data_asset/\")"
   ]
  },
  {
   "cell_type": "code",
   "execution_count": 9,
   "metadata": {},
   "outputs": [],
   "source": [
    "import os"
   ]
  },
  {
   "cell_type": "code",
   "execution_count": 10,
   "metadata": {},
   "outputs": [
    {
     "data": {
      "text/plain": [
       "'posix'"
      ]
     },
     "execution_count": 10,
     "metadata": {},
     "output_type": "execute_result"
    }
   ],
   "source": [
    "os.name"
   ]
  },
  {
   "cell_type": "code",
   "execution_count": 12,
   "metadata": {},
   "outputs": [
    {
     "data": {
      "text/plain": [
       "'/home/wsuser/work/project_git_repo/IBM4DSJupyter/assets/jupyterlab'"
      ]
     },
     "execution_count": 12,
     "metadata": {},
     "output_type": "execute_result"
    }
   ],
   "source": [
    "os.getcwd()"
   ]
  },
  {
   "cell_type": "code",
   "execution_count": 14,
   "metadata": {},
   "outputs": [
    {
     "data": {
      "text/plain": [
       "['Notebook_1.ipynb', '.ipynb_checkpoints', 'Notebook_2.ipynb']"
      ]
     },
     "execution_count": 14,
     "metadata": {},
     "output_type": "execute_result"
    }
   ],
   "source": [
    "os.listdir()"
   ]
  },
  {
   "cell_type": "code",
   "execution_count": 15,
   "metadata": {},
   "outputs": [],
   "source": [
    "df = pd.read_excel('/project_data/data_asset/telco x modeling data.xls')"
   ]
  },
  {
   "cell_type": "code",
   "execution_count": 16,
   "metadata": {},
   "outputs": [
    {
     "data": {
      "text/html": [
       "<div>\n",
       "<style scoped>\n",
       "    .dataframe tbody tr th:only-of-type {\n",
       "        vertical-align: middle;\n",
       "    }\n",
       "\n",
       "    .dataframe tbody tr th {\n",
       "        vertical-align: top;\n",
       "    }\n",
       "\n",
       "    .dataframe thead th {\n",
       "        text-align: right;\n",
       "    }\n",
       "</style>\n",
       "<table border=\"1\" class=\"dataframe\">\n",
       "  <thead>\n",
       "    <tr style=\"text-align: right;\">\n",
       "      <th></th>\n",
       "      <th>customer_id</th>\n",
       "      <th>data_known</th>\n",
       "      <th>gender</th>\n",
       "      <th>age</th>\n",
       "      <th>tariff</th>\n",
       "      <th>dropped_calls</th>\n",
       "      <th>handset</th>\n",
       "      <th>peak_mins</th>\n",
       "      <th>peak_rate</th>\n",
       "      <th>bill_peak</th>\n",
       "      <th>...</th>\n",
       "      <th>gadget_A</th>\n",
       "      <th>gadget_B</th>\n",
       "      <th>gadget_C</th>\n",
       "      <th>gadget_D</th>\n",
       "      <th>gadget_A_revenues</th>\n",
       "      <th>gadget_B_revenues</th>\n",
       "      <th>gadget_C_revenues</th>\n",
       "      <th>gadget_D_revenues</th>\n",
       "      <th>churn</th>\n",
       "      <th>retention</th>\n",
       "    </tr>\n",
       "  </thead>\n",
       "  <tbody>\n",
       "    <tr>\n",
       "      <th>0</th>\n",
       "      <td>K100010</td>\n",
       "      <td>yes</td>\n",
       "      <td>Male</td>\n",
       "      <td>46.0</td>\n",
       "      <td>CAT 50</td>\n",
       "      <td>1.0</td>\n",
       "      <td>SOP10</td>\n",
       "      <td>36.131353</td>\n",
       "      <td>15.0</td>\n",
       "      <td>5.419703</td>\n",
       "      <td>...</td>\n",
       "      <td>F</td>\n",
       "      <td>F</td>\n",
       "      <td>T</td>\n",
       "      <td>F</td>\n",
       "      <td>0.0</td>\n",
       "      <td>0.0</td>\n",
       "      <td>28.0</td>\n",
       "      <td>0.0</td>\n",
       "      <td>Churned</td>\n",
       "      <td>F</td>\n",
       "    </tr>\n",
       "    <tr>\n",
       "      <th>1</th>\n",
       "      <td>K100020</td>\n",
       "      <td>yes</td>\n",
       "      <td>Male</td>\n",
       "      <td>27.0</td>\n",
       "      <td>CAT 50</td>\n",
       "      <td>0.0</td>\n",
       "      <td>SOP10</td>\n",
       "      <td>39.437279</td>\n",
       "      <td>15.0</td>\n",
       "      <td>5.915592</td>\n",
       "      <td>...</td>\n",
       "      <td>T</td>\n",
       "      <td>F</td>\n",
       "      <td>F</td>\n",
       "      <td>F</td>\n",
       "      <td>11.0</td>\n",
       "      <td>0.0</td>\n",
       "      <td>0.0</td>\n",
       "      <td>0.0</td>\n",
       "      <td>Churned</td>\n",
       "      <td>F</td>\n",
       "    </tr>\n",
       "    <tr>\n",
       "      <th>2</th>\n",
       "      <td>K100030</td>\n",
       "      <td>yes</td>\n",
       "      <td>Male</td>\n",
       "      <td>39.0</td>\n",
       "      <td>CAT 50</td>\n",
       "      <td>2.0</td>\n",
       "      <td>SOP20</td>\n",
       "      <td>72.600000</td>\n",
       "      <td>15.0</td>\n",
       "      <td>10.890000</td>\n",
       "      <td>...</td>\n",
       "      <td>T</td>\n",
       "      <td>T</td>\n",
       "      <td>F</td>\n",
       "      <td>T</td>\n",
       "      <td>8.0</td>\n",
       "      <td>23.0</td>\n",
       "      <td>0.0</td>\n",
       "      <td>35.0</td>\n",
       "      <td>Churned</td>\n",
       "      <td>F</td>\n",
       "    </tr>\n",
       "    <tr>\n",
       "      <th>3</th>\n",
       "      <td>K100040</td>\n",
       "      <td>yes</td>\n",
       "      <td>Male</td>\n",
       "      <td>28.0</td>\n",
       "      <td>CAT 50</td>\n",
       "      <td>2.0</td>\n",
       "      <td>SOP10</td>\n",
       "      <td>72.600000</td>\n",
       "      <td>15.0</td>\n",
       "      <td>10.890000</td>\n",
       "      <td>...</td>\n",
       "      <td>T</td>\n",
       "      <td>T</td>\n",
       "      <td>F</td>\n",
       "      <td>T</td>\n",
       "      <td>13.0</td>\n",
       "      <td>18.0</td>\n",
       "      <td>0.0</td>\n",
       "      <td>41.0</td>\n",
       "      <td>Churned</td>\n",
       "      <td>F</td>\n",
       "    </tr>\n",
       "    <tr>\n",
       "      <th>4</th>\n",
       "      <td>K100050</td>\n",
       "      <td>yes</td>\n",
       "      <td>Male</td>\n",
       "      <td>47.0</td>\n",
       "      <td>CAT 50</td>\n",
       "      <td>0.0</td>\n",
       "      <td>SOP10</td>\n",
       "      <td>40.608449</td>\n",
       "      <td>15.0</td>\n",
       "      <td>6.091267</td>\n",
       "      <td>...</td>\n",
       "      <td>F</td>\n",
       "      <td>F</td>\n",
       "      <td>F</td>\n",
       "      <td>F</td>\n",
       "      <td>0.0</td>\n",
       "      <td>0.0</td>\n",
       "      <td>0.0</td>\n",
       "      <td>0.0</td>\n",
       "      <td>Churned</td>\n",
       "      <td>F</td>\n",
       "    </tr>\n",
       "  </tbody>\n",
       "</table>\n",
       "<p>5 rows × 23 columns</p>\n",
       "</div>"
      ],
      "text/plain": [
       "  customer_id data_known gender   age  tariff  dropped_calls handset  \\\n",
       "0     K100010        yes   Male  46.0  CAT 50            1.0   SOP10   \n",
       "1     K100020        yes   Male  27.0  CAT 50            0.0   SOP10   \n",
       "2     K100030        yes   Male  39.0  CAT 50            2.0   SOP20   \n",
       "3     K100040        yes   Male  28.0  CAT 50            2.0   SOP10   \n",
       "4     K100050        yes   Male  47.0  CAT 50            0.0   SOP10   \n",
       "\n",
       "   peak_mins  peak_rate  bill_peak  ...  gadget_A  gadget_B  gadget_C  \\\n",
       "0  36.131353       15.0   5.419703  ...         F         F         T   \n",
       "1  39.437279       15.0   5.915592  ...         T         F         F   \n",
       "2  72.600000       15.0  10.890000  ...         T         T         F   \n",
       "3  72.600000       15.0  10.890000  ...         T         T         F   \n",
       "4  40.608449       15.0   6.091267  ...         F         F         F   \n",
       "\n",
       "  gadget_D gadget_A_revenues gadget_B_revenues gadget_C_revenues  \\\n",
       "0        F               0.0               0.0              28.0   \n",
       "1        F              11.0               0.0               0.0   \n",
       "2        T               8.0              23.0               0.0   \n",
       "3        T              13.0              18.0               0.0   \n",
       "4        F               0.0               0.0               0.0   \n",
       "\n",
       "   gadget_D_revenues    churn  retention  \n",
       "0                0.0  Churned          F  \n",
       "1                0.0  Churned          F  \n",
       "2               35.0  Churned          F  \n",
       "3               41.0  Churned          F  \n",
       "4                0.0  Churned          F  \n",
       "\n",
       "[5 rows x 23 columns]"
      ]
     },
     "execution_count": 16,
     "metadata": {},
     "output_type": "execute_result"
    }
   ],
   "source": [
    "df.head(5)"
   ]
  },
  {
   "cell_type": "markdown",
   "metadata": {},
   "source": [
    "### pa to nič ne delaj, kaj je zdaj to"
   ]
  }
 ],
 "metadata": {
  "kernelspec": {
   "display_name": "Python 3.6",
   "language": "python",
   "name": "python3"
  },
  "language_info": {
   "codemirror_mode": {
    "name": "ipython",
    "version": 3
   },
   "file_extension": ".py",
   "mimetype": "text/x-python",
   "name": "python",
   "nbconvert_exporter": "python",
   "pygments_lexer": "ipython3",
   "version": "3.6.8"
  }
 },
 "nbformat": 4,
 "nbformat_minor": 4
}
